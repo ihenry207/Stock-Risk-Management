{
  "nbformat": 4,
  "nbformat_minor": 0,
  "metadata": {
    "colab": {
      "provenance": [],
      "authorship_tag": "ABX9TyM0c2GmE9bDT3vK+ogKfsin",
      "include_colab_link": true
    },
    "kernelspec": {
      "name": "python3",
      "display_name": "Python 3"
    },
    "language_info": {
      "name": "python"
    }
  },
  "cells": [
    {
      "cell_type": "markdown",
      "metadata": {
        "id": "view-in-github",
        "colab_type": "text"
      },
      "source": [
        "<a href=\"https://colab.research.google.com/github/ihenry207/Stock-Risk-Management/blob/main/Stock_Risk_Management.ipynb\" target=\"_parent\"><img src=\"https://colab.research.google.com/assets/colab-badge.svg\" alt=\"Open In Colab\"/></a>"
      ]
    },
    {
      "cell_type": "markdown",
      "source": [
        "We first start by importing necessary libraries"
      ],
      "metadata": {
        "id": "Lspwskgz973n"
      }
    },
    {
      "cell_type": "code",
      "source": [
        "import requests\n",
        "#import mplfinance as mpf\n",
        "import os\n",
        "import csv"
      ],
      "metadata": {
        "id": "rFdlFbzx0QG0"
      },
      "execution_count": 30,
      "outputs": []
    },
    {
      "cell_type": "markdown",
      "source": [
        "The class **Fundamentals** is used to get the basic properties of a stock. suck as Earnings Per Share **(EPS)**, **Cash Flow**, and **Balance Statements** and little overviw of the stock"
      ],
      "metadata": {
        "id": "6jxR7t2n9CjE"
      }
    },
    {
      "cell_type": "code",
      "source": [
        "\n",
        "class Fundamentals:\n",
        "  ALPHA_URL = 'https://www.alphavantage.co/query' #url for getting the stock informations\n",
        "  def __init__(self, symbol, api_key):\n",
        "        self.symbol = symbol\n",
        "        self.api_key = api_key\n",
        "        self.overview = None\n",
        "        self.income_statement = None\n",
        "        self.balance_sheet = None\n",
        "        self.cash_flow = None\n",
        "\n",
        "  #function for fetching the data\n",
        "  def fetch_data(self):\n",
        "        params = {\n",
        "            'function': 'OVERVIEW',\n",
        "            'symbol': self.symbol,\n",
        "            'apikey': self.api_key\n",
        "        }\n",
        "\n",
        "        response = requests.get(self.ALPHA_URL, params=params)\n",
        "        jdata = response.json()\n",
        "\n",
        "        self.overview = jdata if isinstance(jdata, dict) else None\n",
        "        return self.overview\n",
        "\n",
        "  def fetch_income_statement(self):\n",
        "        params = {\n",
        "            'function': 'INCOME_STATEMENT',\n",
        "            'symbol': self.symbol,\n",
        "            'apikey': self.api_key\n",
        "        }\n",
        "\n",
        "        response = requests.get(self.ALPHA_URL, params=params)\n",
        "        jdata = response.json()\n",
        "\n",
        "        self.income_statement = jdata if isinstance(jdata, dict) else None\n",
        "        return self.income_statement\n",
        "\n",
        "  def fetch_balance_sheet(self):\n",
        "        params = {\n",
        "            'function': 'BALANCE_SHEET',\n",
        "            'symbol': self.symbol,\n",
        "            'apikey': self.api_key\n",
        "        }\n",
        "\n",
        "        response = requests.get(self.ALPHA_URL, params=params)\n",
        "        jdata = response.json()\n",
        "\n",
        "        self.balance_sheet = jdata if isinstance(jdata, dict) else None\n",
        "        return self.balance_sheet\n",
        "  def fetch_cash_flow(self):\n",
        "        params = {\n",
        "            'function': 'CASH_FLOW',\n",
        "            'symbol': self.symbol,\n",
        "            'apikey': self.api_key\n",
        "        }\n",
        "\n",
        "        response = requests.get(self.ALPHA_URL, params=params)\n",
        "        jdata = response.json()\n",
        "\n",
        "        self.cash_flow = jdata if isinstance(jdata, dict) else None\n",
        "        return self.balance_sheet\n",
        "  def fetch_eps(self):\n",
        "        params = {\n",
        "            'function': 'EARNINGS',\n",
        "            'symbol': self.symbol,\n",
        "            'apikey': self.api_key\n",
        "        }\n",
        "\n",
        "        response = requests.get(self.ALPHA_URL, params=params)\n",
        "        jdata = response.json()\n",
        "\n",
        "        self.earnings = jdata if isinstance(jdata, dict) else None\n",
        "        return self.earnings\n",
        "\n",
        "  def to_CSV(self, filename='Findings.csv'):\n",
        "        # Check if directory exists, if not, create it\n",
        "        directory = 'DataFiles'\n",
        "        if not os.path.exists(directory):\n",
        "            os.makedirs(directory)\n",
        "\n",
        "        # Construct the full path for the file\n",
        "        full_path = os.path.join(directory, filename)\n",
        "\n",
        "        # Write data to the CSV file\n",
        "        with open(full_path, 'w', newline='') as csvfile:\n",
        "            writer = csv.writer(csvfile)\n",
        "\n",
        "            # Write header row\n",
        "            writer.writerow(['Metric', 'Value'])\n",
        "\n",
        "            # Write company overview data\n",
        "            if self.overview is not None:\n",
        "                for key, value in self.overview.items():\n",
        "                    writer.writerow([key, value])\n",
        "\n",
        ""
      ],
      "metadata": {
        "id": "WWEV-3dT0QDV"
      },
      "execution_count": 29,
      "outputs": []
    },
    {
      "cell_type": "code",
      "source": [
        "#uploading the api key file onto google collab\n",
        "def upload_files():\n",
        "\n",
        "  from google.colab import files\n",
        "\n",
        "  uploaded = files.upload()\n",
        "\n",
        "  for fn in uploaded.keys():\n",
        "      print('User uploaded file \"{name}\" with length {length} bytes'.format(name=fn, length=len(uploaded[fn])))\n"
      ],
      "metadata": {
        "id": "ZZt4K-dz0QAX"
      },
      "execution_count": 33,
      "outputs": []
    },
    {
      "cell_type": "code",
      "source": [
        "#upload_files()\n",
        "with open(\"AlphaVantageAPIKey.txt\", 'r') as file:\n",
        "    API_KEY = file.readline().strip()\n",
        "\n",
        "#print(API_KEY)  # Print the API key to verify"
      ],
      "metadata": {
        "id": "CxxAGNZC0P9t"
      },
      "execution_count": 13,
      "outputs": []
    },
    {
      "cell_type": "code",
      "source": [
        "company_symbol = 'AAPL' #can be changed to any sticker symbol\n",
        "fund_test = Fundamentals(company_symbol, API_KEY)\n",
        "fund_test.fetch_data()\n",
        "\n",
        "#getting a look at the first company apple\n",
        "print('-------Fundamentals-----------------------')\n",
        "print(fund_test.overview)\n",
        "print('------------------------------------------')\n",
        "print('-------Income Statement--------------------------')\n",
        "fund_test.fetch_income_statement()\n",
        "print(fund_test.income_statement['annualReports'][0])  # Print most recent annual report\n",
        "print('------------------------------------------')\n",
        "\n",
        "print('-------Balance Sheet----------------------')\n",
        "fund_test.fetch_balance_sheet()\n",
        "print(fund_test.balance_sheet['annualReports'][0])   # Print most recent balance sheet\n",
        "print('------------------------------------------')\n",
        "\n",
        "print('-------Cash Flow--------------------------')\n",
        "fund_test.fetch_cash_flow()\n",
        "print(fund_test.cash_flow['annualReports'][0])\n",
        "print('------------------------------------------')\n",
        "\n",
        "print('-------Earnings--------------------------')\n",
        "fund_test.fetch_eps()\n",
        "print(fund_test.earnings['annualEarnings'][0])\n",
        "fund_test.to_CSV()"
      ],
      "metadata": {
        "colab": {
          "base_uri": "https://localhost:8080/"
        },
        "id": "Et_C3OxL0Pme",
        "outputId": "17b65e75-0d64-4405-ac85-11369e2661db"
      },
      "execution_count": 32,
      "outputs": [
        {
          "output_type": "stream",
          "name": "stdout",
          "text": [
            "-------Fundamentals-----------------------\n",
            "{'Symbol': 'AAPL', 'AssetType': 'Common Stock', 'Name': 'Apple Inc', 'Description': \"Apple Inc. is an American multinational technology company that specializes in consumer electronics, computer software, and online services. Apple is the world's largest technology company by revenue (totalling $274.5 billion in 2020) and, since January 2021, the world's most valuable company. As of 2021, Apple is the world's fourth-largest PC vendor by unit sales, and fourth-largest smartphone manufacturer. It is one of the Big Five American information technology companies, along with Amazon, Google, Microsoft, and Facebook.\", 'CIK': '320193', 'Exchange': 'NASDAQ', 'Currency': 'USD', 'Country': 'USA', 'Sector': 'TECHNOLOGY', 'Industry': 'ELECTRONIC COMPUTERS', 'Address': 'ONE INFINITE LOOP, CUPERTINO, CA, US', 'FiscalYearEnd': 'September', 'LatestQuarter': '2023-06-30', 'MarketCapitalization': '2788984881000', 'EBITDA': '123957002000', 'PERatio': '29.93', 'PEGRatio': '2.75', 'BookValue': '3.852', 'DividendPerShare': '0.93', 'DividendYield': '0.0054', 'EPS': '5.96', 'RevenuePerShareTTM': '24.22', 'ProfitMargin': '0.247', 'OperatingMarginTTM': '0.281', 'ReturnOnAssetsTTM': '0.209', 'ReturnOnEquityTTM': '1.601', 'RevenueTTM': '383932989000', 'GrossProfitTTM': '170782000000', 'DilutedEPSTTM': '5.96', 'QuarterlyEarningsGrowthYOY': '0.05', 'QuarterlyRevenueGrowthYOY': '-0.014', 'AnalystTargetPrice': '199.56', 'TrailingPE': '29.93', 'ForwardPE': '28.66', 'PriceToSalesRatioTTM': '5.51', 'PriceToBookRatio': '44.63', 'EVToRevenue': '5.92', 'EVToEBITDA': '23.52', 'Beta': '1.308', '52WeekHigh': '197.96', '52WeekLow': '123.64', '50DayMovingAverage': '178.69', '200DayMovingAverage': '167.57', 'SharesOutstanding': '15634200000', 'DividendDate': '2023-08-17', 'ExDividendDate': '2023-08-11'}\n",
            "------------------------------------------\n",
            "-------Income Statement--------------------------\n",
            "{'fiscalDateEnding': '2022-09-30', 'reportedCurrency': 'USD', 'grossProfit': '170782000000', 'totalRevenue': '391397000000', 'costOfRevenue': '248640000000', 'costofGoodsAndServicesSold': '223546000000', 'operatingIncome': '119437000000', 'sellingGeneralAndAdministrative': '25094000000', 'researchAndDevelopment': '26251000000', 'operatingExpenses': '51345000000', 'investmentIncomeNet': '2825000000', 'netInterestIncome': '-2931000000', 'interestIncome': '106000000', 'interestExpense': '2931000000', 'nonInterestIncome': '394328000000', 'otherNonOperatingIncome': '-228000000', 'depreciation': '8700000000', 'depreciationAndAmortization': '11104000000', 'incomeBeforeTax': '119103000000', 'incomeTaxExpense': '19300000000', 'interestAndDebtExpense': '2931000000', 'netIncomeFromContinuingOperations': '99803000000', 'comprehensiveIncomeNetOfTax': '88531000000', 'ebit': '122034000000', 'ebitda': '130541000000', 'netIncome': '99803000000'}\n",
            "------------------------------------------\n",
            "-------Balance Sheet----------------------\n",
            "{'fiscalDateEnding': '2022-09-30', 'reportedCurrency': 'USD', 'totalAssets': '352755000000', 'totalCurrentAssets': '135405000000', 'cashAndCashEquivalentsAtCarryingValue': '23646000000', 'cashAndShortTermInvestments': '48304000000', 'inventory': '4946000000', 'currentNetReceivables': '60932000000', 'totalNonCurrentAssets': '217350000000', 'propertyPlantEquipment': '42117000000', 'accumulatedDepreciationAmortizationPPE': '72340000000', 'intangibleAssets': 'None', 'intangibleAssetsExcludingGoodwill': 'None', 'goodwill': 'None', 'investments': '292870000000', 'longTermInvestments': '120805000000', 'shortTermInvestments': '24658000000', 'otherCurrentAssets': '21223000000', 'otherNonCurrentAssets': '54428000000', 'totalLiabilities': '302083000000', 'totalCurrentLiabilities': '153982000000', 'currentAccountsPayable': '64115000000', 'deferredRevenue': '20312000000', 'currentDebt': '21239000000', 'shortTermDebt': '9982000000', 'totalNonCurrentLiabilities': '148101000000', 'capitalLeaseObligations': '812000000', 'longTermDebt': '110100000000', 'currentLongTermDebt': '11128000000', 'longTermDebtNoncurrent': '98959000000', 'shortLongTermDebtTotal': '233256000000', 'otherCurrentLiabilities': '60845000000', 'otherNonCurrentLiabilities': '49142000000', 'totalShareholderEquity': '50672000000', 'treasuryStock': 'None', 'retainedEarnings': '-3068000000', 'commonStock': '64849000000', 'commonStockSharesOutstanding': '15943425000'}\n",
            "------------------------------------------\n",
            "-------Cash Flow--------------------------\n",
            "{'fiscalDateEnding': '2022-09-30', 'reportedCurrency': 'USD', 'operatingCashflow': '122151000000', 'paymentsForOperatingActivities': '4665000000', 'proceedsFromOperatingActivities': 'None', 'changeInOperatingLiabilities': '15558000000', 'changeInOperatingAssets': '14358000000', 'depreciationDepletionAndAmortization': '11104000000', 'capitalExpenditures': '10708000000', 'changeInReceivables': '9343000000', 'changeInInventory': '-1484000000', 'profitLoss': '99803000000', 'cashflowFromInvestment': '-22354000000', 'cashflowFromFinancing': '-110749000000', 'proceedsFromRepaymentsOfShortTermDebt': '7910000000', 'paymentsForRepurchaseOfCommonStock': '89402000000', 'paymentsForRepurchaseOfEquity': '89402000000', 'paymentsForRepurchaseOfPreferredStock': 'None', 'dividendPayout': '14841000000', 'dividendPayoutCommonStock': '14841000000', 'dividendPayoutPreferredStock': 'None', 'proceedsFromIssuanceOfCommonStock': 'None', 'proceedsFromIssuanceOfLongTermDebtAndCapitalSecuritiesNet': '5465000000', 'proceedsFromIssuanceOfPreferredStock': 'None', 'proceedsFromRepurchaseOfEquity': '-89402000000', 'proceedsFromSaleOfTreasuryStock': 'None', 'changeInCashAndCashEquivalents': '-10952000000', 'changeInExchangeRate': 'None', 'netIncome': '99803000000'}\n",
            "------------------------------------------\n",
            "-------Earnings--------------------------\n",
            "{'fiscalDateEnding': '2023-09-30', 'reportedEPS': '4.66'}\n"
          ]
        }
      ]
    }
  ]
}